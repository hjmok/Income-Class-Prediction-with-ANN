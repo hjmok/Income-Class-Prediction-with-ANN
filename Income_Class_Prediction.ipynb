{
  "nbformat": 4,
  "nbformat_minor": 0,
  "metadata": {
    "colab": {
      "name": "Income Class Prediction.ipynb",
      "provenance": [],
      "collapsed_sections": []
    },
    "kernelspec": {
      "name": "python3",
      "display_name": "Python 3"
    }
  },
  "cells": [
    {
      "cell_type": "code",
      "metadata": {
        "id": "_S3G6Ey-sj4_"
      },
      "source": [
        "import torch\r\n",
        "import torch.nn as nn\r\n",
        "import numpy as np\r\n",
        "import pandas as pd\r\n",
        "import matplotlib.pyplot as plt\r\n",
        "from sklearn.utils import shuffle\r\n",
        "from sklearn.metrics import confusion_matrix\r\n",
        "\r\n",
        "%matplotlib inline"
      ],
      "execution_count": null,
      "outputs": []
    },
    {
      "cell_type": "code",
      "metadata": {
        "colab": {
          "base_uri": "https://localhost:8080/",
          "height": 399
        },
        "id": "lUEnao1ns1yg",
        "outputId": "ee1620d9-a34c-4de1-b3fd-539866f85ea0"
      },
      "source": [
        "df = pd.read_csv('income.csv')\r\n",
        "df"
      ],
      "execution_count": null,
      "outputs": [
        {
          "output_type": "execute_result",
          "data": {
            "text/html": [
              "<div>\n",
              "<style scoped>\n",
              "    .dataframe tbody tr th:only-of-type {\n",
              "        vertical-align: middle;\n",
              "    }\n",
              "\n",
              "    .dataframe tbody tr th {\n",
              "        vertical-align: top;\n",
              "    }\n",
              "\n",
              "    .dataframe thead th {\n",
              "        text-align: right;\n",
              "    }\n",
              "</style>\n",
              "<table border=\"1\" class=\"dataframe\">\n",
              "  <thead>\n",
              "    <tr style=\"text-align: right;\">\n",
              "      <th></th>\n",
              "      <th>age</th>\n",
              "      <th>sex</th>\n",
              "      <th>education</th>\n",
              "      <th>education-num</th>\n",
              "      <th>marital-status</th>\n",
              "      <th>workclass</th>\n",
              "      <th>occupation</th>\n",
              "      <th>hours-per-week</th>\n",
              "      <th>income</th>\n",
              "      <th>label</th>\n",
              "    </tr>\n",
              "  </thead>\n",
              "  <tbody>\n",
              "    <tr>\n",
              "      <th>0</th>\n",
              "      <td>27</td>\n",
              "      <td>Male</td>\n",
              "      <td>HS-grad</td>\n",
              "      <td>9</td>\n",
              "      <td>Never-married</td>\n",
              "      <td>Private</td>\n",
              "      <td>Craft-repair</td>\n",
              "      <td>40</td>\n",
              "      <td>&lt;=50K</td>\n",
              "      <td>0</td>\n",
              "    </tr>\n",
              "    <tr>\n",
              "      <th>1</th>\n",
              "      <td>47</td>\n",
              "      <td>Male</td>\n",
              "      <td>Masters</td>\n",
              "      <td>14</td>\n",
              "      <td>Married</td>\n",
              "      <td>Local-gov</td>\n",
              "      <td>Exec-managerial</td>\n",
              "      <td>50</td>\n",
              "      <td>&gt;50K</td>\n",
              "      <td>1</td>\n",
              "    </tr>\n",
              "    <tr>\n",
              "      <th>2</th>\n",
              "      <td>59</td>\n",
              "      <td>Male</td>\n",
              "      <td>HS-grad</td>\n",
              "      <td>9</td>\n",
              "      <td>Divorced</td>\n",
              "      <td>Self-emp</td>\n",
              "      <td>Prof-specialty</td>\n",
              "      <td>20</td>\n",
              "      <td>&lt;=50K</td>\n",
              "      <td>0</td>\n",
              "    </tr>\n",
              "    <tr>\n",
              "      <th>3</th>\n",
              "      <td>38</td>\n",
              "      <td>Female</td>\n",
              "      <td>Prof-school</td>\n",
              "      <td>15</td>\n",
              "      <td>Never-married</td>\n",
              "      <td>Federal-gov</td>\n",
              "      <td>Prof-specialty</td>\n",
              "      <td>57</td>\n",
              "      <td>&gt;50K</td>\n",
              "      <td>1</td>\n",
              "    </tr>\n",
              "    <tr>\n",
              "      <th>4</th>\n",
              "      <td>64</td>\n",
              "      <td>Female</td>\n",
              "      <td>11th</td>\n",
              "      <td>7</td>\n",
              "      <td>Widowed</td>\n",
              "      <td>Private</td>\n",
              "      <td>Farming-fishing</td>\n",
              "      <td>40</td>\n",
              "      <td>&lt;=50K</td>\n",
              "      <td>0</td>\n",
              "    </tr>\n",
              "    <tr>\n",
              "      <th>...</th>\n",
              "      <td>...</td>\n",
              "      <td>...</td>\n",
              "      <td>...</td>\n",
              "      <td>...</td>\n",
              "      <td>...</td>\n",
              "      <td>...</td>\n",
              "      <td>...</td>\n",
              "      <td>...</td>\n",
              "      <td>...</td>\n",
              "      <td>...</td>\n",
              "    </tr>\n",
              "    <tr>\n",
              "      <th>29995</th>\n",
              "      <td>45</td>\n",
              "      <td>Male</td>\n",
              "      <td>Masters</td>\n",
              "      <td>14</td>\n",
              "      <td>Married</td>\n",
              "      <td>State-gov</td>\n",
              "      <td>Prof-specialty</td>\n",
              "      <td>60</td>\n",
              "      <td>&gt;50K</td>\n",
              "      <td>1</td>\n",
              "    </tr>\n",
              "    <tr>\n",
              "      <th>29996</th>\n",
              "      <td>33</td>\n",
              "      <td>Male</td>\n",
              "      <td>HS-grad</td>\n",
              "      <td>9</td>\n",
              "      <td>Married</td>\n",
              "      <td>Private</td>\n",
              "      <td>Machine-op-inspct</td>\n",
              "      <td>40</td>\n",
              "      <td>&gt;50K</td>\n",
              "      <td>1</td>\n",
              "    </tr>\n",
              "    <tr>\n",
              "      <th>29997</th>\n",
              "      <td>47</td>\n",
              "      <td>Male</td>\n",
              "      <td>Prof-school</td>\n",
              "      <td>15</td>\n",
              "      <td>Married</td>\n",
              "      <td>Private</td>\n",
              "      <td>Prof-specialty</td>\n",
              "      <td>55</td>\n",
              "      <td>&gt;50K</td>\n",
              "      <td>1</td>\n",
              "    </tr>\n",
              "    <tr>\n",
              "      <th>29998</th>\n",
              "      <td>32</td>\n",
              "      <td>Female</td>\n",
              "      <td>Some-college</td>\n",
              "      <td>10</td>\n",
              "      <td>Never-married</td>\n",
              "      <td>Private</td>\n",
              "      <td>Adm-clerical</td>\n",
              "      <td>40</td>\n",
              "      <td>&lt;=50K</td>\n",
              "      <td>0</td>\n",
              "    </tr>\n",
              "    <tr>\n",
              "      <th>29999</th>\n",
              "      <td>33</td>\n",
              "      <td>Male</td>\n",
              "      <td>Assoc-acdm</td>\n",
              "      <td>12</td>\n",
              "      <td>Married</td>\n",
              "      <td>Self-emp</td>\n",
              "      <td>Exec-managerial</td>\n",
              "      <td>60</td>\n",
              "      <td>&gt;50K</td>\n",
              "      <td>1</td>\n",
              "    </tr>\n",
              "  </tbody>\n",
              "</table>\n",
              "<p>30000 rows × 10 columns</p>\n",
              "</div>"
            ],
            "text/plain": [
              "       age     sex     education  ...  hours-per-week income label\n",
              "0       27    Male       HS-grad  ...              40  <=50K     0\n",
              "1       47    Male       Masters  ...              50   >50K     1\n",
              "2       59    Male       HS-grad  ...              20  <=50K     0\n",
              "3       38  Female   Prof-school  ...              57   >50K     1\n",
              "4       64  Female          11th  ...              40  <=50K     0\n",
              "...    ...     ...           ...  ...             ...    ...   ...\n",
              "29995   45    Male       Masters  ...              60   >50K     1\n",
              "29996   33    Male       HS-grad  ...              40   >50K     1\n",
              "29997   47    Male   Prof-school  ...              55   >50K     1\n",
              "29998   32  Female  Some-college  ...              40  <=50K     0\n",
              "29999   33    Male    Assoc-acdm  ...              60   >50K     1\n",
              "\n",
              "[30000 rows x 10 columns]"
            ]
          },
          "metadata": {
            "tags": []
          },
          "execution_count": 2
        }
      ]
    },
    {
      "cell_type": "code",
      "metadata": {
        "colab": {
          "base_uri": "https://localhost:8080/"
        },
        "id": "SFABXoTWtSDW",
        "outputId": "0cc2063c-b43b-434d-ec73-8a5458a189ea"
      },
      "source": [
        "df['label'].value_counts() #21700 cases of class 0 (under 50k) and 8300 cases of class 1 (over 50k)"
      ],
      "execution_count": null,
      "outputs": [
        {
          "output_type": "execute_result",
          "data": {
            "text/plain": [
              "0    21700\n",
              "1     8300\n",
              "Name: label, dtype: int64"
            ]
          },
          "metadata": {
            "tags": []
          },
          "execution_count": 3
        }
      ]
    },
    {
      "cell_type": "markdown",
      "metadata": {
        "id": "ONMMBJIJuIMg"
      },
      "source": [
        "# **Part 1: Data Preprocessing**\r\n",
        "1.1 Separating Categorical Variables"
      ]
    },
    {
      "cell_type": "code",
      "metadata": {
        "id": "nyxK6J2vto5Y"
      },
      "source": [
        "categorical_col = ['sex', 'education', 'marital-status','workclass', 'occupation'] #categorical columns\r\n",
        "continuous_col = ['age','hours-per-week'] #continuous columns\r\n",
        "y_col = ['label'] #this will be the answer that we want to be the output of our NN"
      ],
      "execution_count": null,
      "outputs": []
    },
    {
      "cell_type": "code",
      "metadata": {
        "colab": {
          "base_uri": "https://localhost:8080/"
        },
        "id": "pYZuHTZUurYj",
        "outputId": "1b1c8e8e-c5b4-4ee7-9dd5-ffeba1ab6bd9"
      },
      "source": [
        "df.dtypes #notice the categorical columns are objects, but we want to convert them into categoires"
      ],
      "execution_count": null,
      "outputs": [
        {
          "output_type": "execute_result",
          "data": {
            "text/plain": [
              "age                int64\n",
              "sex               object\n",
              "education         object\n",
              "education-num      int64\n",
              "marital-status    object\n",
              "workclass         object\n",
              "occupation        object\n",
              "hours-per-week     int64\n",
              "income            object\n",
              "label              int64\n",
              "dtype: object"
            ]
          },
          "metadata": {
            "tags": []
          },
          "execution_count": 5
        }
      ]
    },
    {
      "cell_type": "code",
      "metadata": {
        "colab": {
          "base_uri": "https://localhost:8080/"
        },
        "id": "-0DxS7_muydR",
        "outputId": "f77b2426-dc74-43c7-e569-5d4c64dfcee9"
      },
      "source": [
        "for cat in categorical_col:\r\n",
        "  #looping through the categorical_col list so we can convert each column listed into a category datatype\r\n",
        "  df[cat] = df[cat].astype('category')\r\n",
        "\r\n",
        "df.dtypes #notice they are categories now"
      ],
      "execution_count": null,
      "outputs": [
        {
          "output_type": "execute_result",
          "data": {
            "text/plain": [
              "age                  int64\n",
              "sex               category\n",
              "education         category\n",
              "education-num        int64\n",
              "marital-status    category\n",
              "workclass         category\n",
              "occupation        category\n",
              "hours-per-week       int64\n",
              "income              object\n",
              "label                int64\n",
              "dtype: object"
            ]
          },
          "metadata": {
            "tags": []
          },
          "execution_count": 6
        }
      ]
    },
    {
      "cell_type": "code",
      "metadata": {
        "colab": {
          "base_uri": "https://localhost:8080/"
        },
        "id": "I4x5VVTju5XY",
        "outputId": "addec72d-ed54-4d43-b724-7bbdc0555ca5"
      },
      "source": [
        "df['education'].head() #notice the marital status column is has 6 categories"
      ],
      "execution_count": null,
      "outputs": [
        {
          "output_type": "execute_result",
          "data": {
            "text/plain": [
              "0        HS-grad\n",
              "1        Masters\n",
              "2        HS-grad\n",
              "3    Prof-school\n",
              "4           11th\n",
              "Name: education, dtype: category\n",
              "Categories (14, object): ['10th', '11th', '12th', '5th-6th', ..., 'HS-grad', 'Masters',\n",
              "                          'Prof-school', 'Some-college']"
            ]
          },
          "metadata": {
            "tags": []
          },
          "execution_count": 7
        }
      ]
    },
    {
      "cell_type": "code",
      "metadata": {
        "colab": {
          "base_uri": "https://localhost:8080/"
        },
        "id": "IqbQTWgKv6BB",
        "outputId": "a13e3a67-4bab-4b38-c3f3-da4e02054723"
      },
      "source": [
        "print(df['education'].cat.codes.values) #so we're given a code for each education level\r\n",
        "print(df['sex'].cat.codes.values) #so we're given a code for male = 0, female = 1"
      ],
      "execution_count": null,
      "outputs": [
        {
          "output_type": "stream",
          "text": [
            "[10 11 10 ... 12 13  6]\n",
            "[1 1 1 ... 1 0 1]\n"
          ],
          "name": "stdout"
        }
      ]
    },
    {
      "cell_type": "code",
      "metadata": {
        "colab": {
          "base_uri": "https://localhost:8080/"
        },
        "id": "BK3yP4mzvL9r",
        "outputId": "8ff7db51-edf8-4542-85e2-5afefd8efaaf"
      },
      "source": [
        "cats = np.stack([df[col].cat.codes.values for col in categorical_col], axis = 1) #so we're stacking the arrays together along the y-axis to make a row for each\r\n",
        "cats = torch.tensor(cats, dtype = torch.int64) #converting our categories into a PyTorch Tensor to feed into our model\r\n",
        "\r\n",
        "cats #first row is male, HS-grad, Never-Married, Private, Craft-repair with their respective encoded values"
      ],
      "execution_count": null,
      "outputs": [
        {
          "output_type": "execute_result",
          "data": {
            "text/plain": [
              "tensor([[ 1, 10,  3,  2,  1],\n",
              "        [ 1, 11,  1,  1,  2],\n",
              "        [ 1, 10,  0,  3,  7],\n",
              "        ...,\n",
              "        [ 1, 12,  1,  2,  7],\n",
              "        [ 0, 13,  3,  2,  0],\n",
              "        [ 1,  6,  1,  3,  2]])"
            ]
          },
          "metadata": {
            "tags": []
          },
          "execution_count": 9
        }
      ]
    },
    {
      "cell_type": "markdown",
      "metadata": {
        "id": "8I5qIC62xVaH"
      },
      "source": [
        "1.2 Separating Continuous Variables"
      ]
    },
    {
      "cell_type": "code",
      "metadata": {
        "colab": {
          "base_uri": "https://localhost:8080/"
        },
        "id": "0FVC7kOowyEt",
        "outputId": "6882a2c4-80da-4e94-f153-103e0df5d8da"
      },
      "source": [
        "conts = np.stack([df[col].values for col in continuous_col], axis = 1) #doing what we did above to categorical value\r\n",
        "conts = torch.tensor(conts, dtype=torch.float) #converting our continous variables into a PyTorch Tensor feed into our model\r\n",
        "\r\n",
        "conts #first row is age 27 and 40 hours worked"
      ],
      "execution_count": null,
      "outputs": [
        {
          "output_type": "execute_result",
          "data": {
            "text/plain": [
              "tensor([[27., 40.],\n",
              "        [47., 50.],\n",
              "        [59., 20.],\n",
              "        ...,\n",
              "        [47., 55.],\n",
              "        [32., 40.],\n",
              "        [33., 60.]])"
            ]
          },
          "metadata": {
            "tags": []
          },
          "execution_count": 10
        }
      ]
    },
    {
      "cell_type": "markdown",
      "metadata": {
        "id": "QhGyfWRrxxyp"
      },
      "source": [
        "1.3 Separating Label"
      ]
    },
    {
      "cell_type": "code",
      "metadata": {
        "colab": {
          "base_uri": "https://localhost:8080/"
        },
        "id": "zN1EgxIJxp3U",
        "outputId": "43270498-088e-4ed9-86e1-aef51aabcb48"
      },
      "source": [
        "y = torch.tensor(df[y_col].values).flatten() \r\n",
        "y"
      ],
      "execution_count": null,
      "outputs": [
        {
          "output_type": "execute_result",
          "data": {
            "text/plain": [
              "tensor([0, 1, 0,  ..., 1, 0, 1])"
            ]
          },
          "metadata": {
            "tags": []
          },
          "execution_count": 11
        }
      ]
    },
    {
      "cell_type": "code",
      "metadata": {
        "colab": {
          "base_uri": "https://localhost:8080/"
        },
        "id": "OLkT-Lcux3dA",
        "outputId": "e18780ee-b359-4d7d-97a8-6d99fd0d268c"
      },
      "source": [
        "print('cats.shape =',cats.shape)\r\n",
        "print('conts.shape =',conts.shape)\r\n",
        "print('y.shape =',y.shape)\r\n",
        "#shapes are as expected with 5 columns in categorical, 2 columns in continuous, and 1 column as the label"
      ],
      "execution_count": null,
      "outputs": [
        {
          "output_type": "stream",
          "text": [
            "cats.shape = torch.Size([30000, 5])\n",
            "conts.shape = torch.Size([30000, 2])\n",
            "y.shape = torch.Size([30000])\n"
          ],
          "name": "stdout"
        }
      ]
    },
    {
      "cell_type": "markdown",
      "metadata": {
        "id": "EVuTBWmTRqxv"
      },
      "source": [
        "1.4 Embedding our Categories (One Hot Encoding)"
      ]
    },
    {
      "cell_type": "code",
      "metadata": {
        "colab": {
          "base_uri": "https://localhost:8080/"
        },
        "id": "y0eb7GB7x-rD",
        "outputId": "c1d4db5d-f401-4721-9603-3c29c61aa7e1"
      },
      "source": [
        "categorical_sizes = [len(df[col].cat.categories) for col in categorical_col] #category sizes\r\n",
        "categorical_sizes #so sex has 2 classes, education has 14, marital has6, work class has 5, and occupation has 12"
      ],
      "execution_count": null,
      "outputs": [
        {
          "output_type": "execute_result",
          "data": {
            "text/plain": [
              "[2, 14, 6, 5, 12]"
            ]
          },
          "metadata": {
            "tags": []
          },
          "execution_count": 13
        }
      ]
    },
    {
      "cell_type": "code",
      "metadata": {
        "colab": {
          "base_uri": "https://localhost:8080/"
        },
        "id": "FmGa_IAfygOY",
        "outputId": "8da0eff3-cdf8-48ab-dd06-57c2d50db91a"
      },
      "source": [
        "emb_sizes = [(size, min(50, (size+1)//2)) for size in categorical_sizes] #so for size [2, 14, 6, 5, 12] in categorical_sizes, embed 50 or take the size and divide by 2\r\n",
        "#the +1 is incase we only have 2 categories and // is to make sure the output is an integer\r\n",
        "emb_sizes #none of the sizes exceeded 50, so it just made the embedding size the size divided by 2. \r\n",
        "#so here, our number of categories are [2, 14, 6, 5, 12] and our embedding sizes are 1,7,3,3,6\r\n",
        "\r\n",
        "#So the embedding provides a more compact (lower dimensional) representation of a set of input variables that have some correlations. It's useful because it reduces the number of parameters overall. \r\n",
        "#So technically we could've just used all 2+14+6+5+12 as inputs into our NN, but we used embedding to reduce the parameters and make calculations faster\r\n",
        "#An embedding layer simply maps/projects some N dimensional tensor into another number of dimensions, the number of dimensions to output to are often arbitrary, but you can have some logic to it, like embedding marital status to 2 dimensions may end up mapping closely to single vs not single or workclass to 2 dimensions could give government vs private (although there is no guarantee of this)"
      ],
      "execution_count": null,
      "outputs": [
        {
          "output_type": "execute_result",
          "data": {
            "text/plain": [
              "[(2, 1), (14, 7), (6, 3), (5, 3), (12, 6)]"
            ]
          },
          "metadata": {
            "tags": []
          },
          "execution_count": 14
        }
      ]
    },
    {
      "cell_type": "markdown",
      "metadata": {
        "id": "7wSwBB0jC6RC"
      },
      "source": [
        "# **Part 2: Creating the Model**\n"
      ]
    },
    {
      "cell_type": "code",
      "metadata": {
        "id": "4PoMvXtu0LgR"
      },
      "source": [
        "#Inheriting from nn.Module to use it's features\r\n",
        "class Model(nn.Module):\r\n",
        "  \r\n",
        "  def __init__(self, emb_sizes, n_continuous, out_size, n_layers, p=0.5):\r\n",
        "    #so our parameters are embedding size, number of continous features, output size, number of layers, and our dropout probability defaulted to 50%\r\n",
        "    #This determins how many layers are there in our NN\r\n",
        "\r\n",
        "    super().__init__() #inheriting the features from nn.Module\r\n",
        "    self.embeds = nn.ModuleList([nn.Embedding(num_embeddings = ni, embedding_dim = nf) for ni,nf in emb_sizes]) #so now our ModuleList is filled with the Embedding layers (one for hour, one of ampm, and one for weekday)\r\n",
        "    self.emb_drop = nn.Dropout(p) #adding a dropout layer\r\n",
        "    self.bn_cont = nn.BatchNorm1d(n_continuous) #normalizing the continous data so it falls within the same order of magnitude range\r\n",
        "\r\n",
        "    layerlist = [] #initializing layerlist so we can store our layers\r\n",
        "    n_emb = sum([nf for ni,nf in emb_sizes]) #calculating the number of embeddings, which is basically 12 + 1 + 4\r\n",
        "    n_in = n_emb + n_continuous #so the total number of inputs will be the number of embeddings plus the number of continous features\r\n",
        "\r\n",
        "    for i in n_layers:\r\n",
        "      layerlist.append(nn.Linear(n_in, i)) #create a layer connecting n_in and i, where i is the number of neurons. Basically this makes a fully connected layer. \r\n",
        "      layerlist.append(nn.ReLU(inplace = True)) #adding the activation function to the layer\r\n",
        "      layerlist.append(nn.BatchNorm1d(i)) #adding the normalization of the continuous values to the list\r\n",
        "      layerlist.append(nn.Dropout(p)) #adding the dropout to the layer\r\n",
        "      n_in = i #equating n_in with the number of neurons i, so that the next fully connected layer can start with i - 1 neurons.\r\n",
        "\r\n",
        "    #So layers is going to look like this: layers = [192, 96, 48] meaning you want 256 neurons in first layer, then 128 neurons in second layer, then 64. This allows us play around with the values and makes it flexible. \r\n",
        "    layerlist.append(nn.Linear(n_layers[-1], out_size)) #so making the last layer be connected by the last layer and output size\r\n",
        "    self.layers = nn.Sequential(*layerlist) #using sequential to combine the layers from the layerlist so that it can be ordered properly as a NN\r\n",
        "\r\n",
        "  def forward(self, x_categorical, x_continuous):\r\n",
        "    #So this determines the forward propagation with the activation functions we want to use\r\n",
        "\r\n",
        "    # Now we are utilizing the embeddings to pass into our forward method\r\n",
        "    embeddings = [] \r\n",
        "\r\n",
        "    for i,e in enumerate(self.embeds):\r\n",
        "      embeddings.append(e(x_categorical[:,i])) #so we're adding to our embeddingz list for each row and column i in our categorical inputs, x_cat\r\n",
        "\r\n",
        "    x = torch.cat(tensors = embeddings, dim = 1) #so we're concatenating embeddings along dimension 1, meaning all the values we got above for each tensor will be within a single row (i.e. 12(hour) + 1(amorpm) + 4(weekday) all in one row within a single tensor)\r\n",
        "    x = self.emb_drop(x) #adding the drop out layer to our embedded categorical data\r\n",
        "\r\n",
        "    x_cont = self.bn_cont(x_continuous) #normalizing our continuous data\r\n",
        "    x = torch.cat(tensors = [x, x_continuous], dim = 1) #concatenating our categorical and continuous data to be in a single tensor row\r\n",
        "    x = self.layers(x) #passing our continuous and categorical data into our NN, which was made above with Sequential\r\n",
        "\r\n",
        "    return x"
      ],
      "execution_count": null,
      "outputs": []
    },
    {
      "cell_type": "code",
      "metadata": {
        "colab": {
          "base_uri": "https://localhost:8080/"
        },
        "id": "wLXWvZ4J0R9X",
        "outputId": "38b2ac8a-c6b7-488a-d607-f4decea298c6"
      },
      "source": [
        "model = Model(emb_sizes,  n_continuous = conts.shape[1], out_size = 2, n_layers = [192, 96, 48]) #conts.shape[1] is the number of columns in the continuous tensor, output size is 2 (since we have 2 classes, 0 or 1, which is a binary classification problem), and hidden layers will have 192 then 96 then 48 neurons\r\n",
        "model"
      ],
      "execution_count": null,
      "outputs": [
        {
          "output_type": "execute_result",
          "data": {
            "text/plain": [
              "Model(\n",
              "  (embeds): ModuleList(\n",
              "    (0): Embedding(2, 1)\n",
              "    (1): Embedding(14, 7)\n",
              "    (2): Embedding(6, 3)\n",
              "    (3): Embedding(5, 3)\n",
              "    (4): Embedding(12, 6)\n",
              "  )\n",
              "  (emb_drop): Dropout(p=0.5, inplace=False)\n",
              "  (bn_cont): BatchNorm1d(2, eps=1e-05, momentum=0.1, affine=True, track_running_stats=True)\n",
              "  (layers): Sequential(\n",
              "    (0): Linear(in_features=22, out_features=192, bias=True)\n",
              "    (1): ReLU(inplace=True)\n",
              "    (2): BatchNorm1d(192, eps=1e-05, momentum=0.1, affine=True, track_running_stats=True)\n",
              "    (3): Dropout(p=0.5, inplace=False)\n",
              "    (4): Linear(in_features=192, out_features=96, bias=True)\n",
              "    (5): ReLU(inplace=True)\n",
              "    (6): BatchNorm1d(96, eps=1e-05, momentum=0.1, affine=True, track_running_stats=True)\n",
              "    (7): Dropout(p=0.5, inplace=False)\n",
              "    (8): Linear(in_features=96, out_features=48, bias=True)\n",
              "    (9): ReLU(inplace=True)\n",
              "    (10): BatchNorm1d(48, eps=1e-05, momentum=0.1, affine=True, track_running_stats=True)\n",
              "    (11): Dropout(p=0.5, inplace=False)\n",
              "    (12): Linear(in_features=48, out_features=2, bias=True)\n",
              "  )\n",
              ")"
            ]
          },
          "metadata": {
            "tags": []
          },
          "execution_count": 16
        }
      ]
    },
    {
      "cell_type": "code",
      "metadata": {
        "colab": {
          "base_uri": "https://localhost:8080/"
        },
        "id": "I1sNmPZn0w_v",
        "outputId": "2187b62e-9acf-4750-9504-161359b76594"
      },
      "source": [
        "criterion = nn.CrossEntropyLoss() #so our loss measurement will be based off CrossEntropyLoss since this is a mutually exclusive answer (only 1 target can be correct)\r\n",
        "\r\n",
        "optimizer = torch.optim.Adam(params = model.parameters(), lr = 0.001) #model parameters are just the fully connected layers and we are using Adam optimizer to optimize them\r\n",
        "model.parameters #can see the parameters are just the fully connected layers and we are optimizing them"
      ],
      "execution_count": null,
      "outputs": [
        {
          "output_type": "execute_result",
          "data": {
            "text/plain": [
              "<bound method Module.parameters of Model(\n",
              "  (embeds): ModuleList(\n",
              "    (0): Embedding(2, 1)\n",
              "    (1): Embedding(14, 7)\n",
              "    (2): Embedding(6, 3)\n",
              "    (3): Embedding(5, 3)\n",
              "    (4): Embedding(12, 6)\n",
              "  )\n",
              "  (emb_drop): Dropout(p=0.5, inplace=False)\n",
              "  (bn_cont): BatchNorm1d(2, eps=1e-05, momentum=0.1, affine=True, track_running_stats=True)\n",
              "  (layers): Sequential(\n",
              "    (0): Linear(in_features=22, out_features=192, bias=True)\n",
              "    (1): ReLU(inplace=True)\n",
              "    (2): BatchNorm1d(192, eps=1e-05, momentum=0.1, affine=True, track_running_stats=True)\n",
              "    (3): Dropout(p=0.5, inplace=False)\n",
              "    (4): Linear(in_features=192, out_features=96, bias=True)\n",
              "    (5): ReLU(inplace=True)\n",
              "    (6): BatchNorm1d(96, eps=1e-05, momentum=0.1, affine=True, track_running_stats=True)\n",
              "    (7): Dropout(p=0.5, inplace=False)\n",
              "    (8): Linear(in_features=96, out_features=48, bias=True)\n",
              "    (9): ReLU(inplace=True)\n",
              "    (10): BatchNorm1d(48, eps=1e-05, momentum=0.1, affine=True, track_running_stats=True)\n",
              "    (11): Dropout(p=0.5, inplace=False)\n",
              "    (12): Linear(in_features=48, out_features=2, bias=True)\n",
              "  )\n",
              ")>"
            ]
          },
          "metadata": {
            "tags": []
          },
          "execution_count": 17
        }
      ]
    },
    {
      "cell_type": "code",
      "metadata": {
        "colab": {
          "base_uri": "https://localhost:8080/"
        },
        "id": "ZTJpRXDT1pIP",
        "outputId": "21ff9b07-a426-4ba7-a304-2130f6e32b1d"
      },
      "source": [
        "batch_size = 30000 #just going to feed in all the data\r\n",
        "test_size = int(batch_size*0.20) #making our test size 1/3 the batch size\r\n",
        "\r\n",
        "#Our data was shuffled already when we got it, which is why we can do the following. If it wasn't shuffled already, then we'd need to shuffle first before assigning the train test split\r\n",
        "\r\n",
        "categorical_train = cats[:batch_size - test_size] #so take from index 0 to 24000\r\n",
        "categorical_test = cats[batch_size - test_size: batch_size] #take from index 24000 to 30000\r\n",
        "continuous_train = conts[:batch_size - test_size]\r\n",
        "continuous_test = conts[batch_size - test_size: batch_size]\r\n",
        "y_train = y[:batch_size - test_size]\r\n",
        "y_test = y[batch_size - test_size: batch_size]\r\n",
        "\r\n",
        "print(len(categorical_train))\r\n",
        "print(len(categorical_test))\r\n",
        "print(len(continuous_train))\r\n",
        "print(len(continuous_test))\r\n",
        "print(len(y_train))\r\n",
        "print(len(y_test))"
      ],
      "execution_count": null,
      "outputs": [
        {
          "output_type": "stream",
          "text": [
            "24000\n",
            "6000\n",
            "24000\n",
            "6000\n",
            "24000\n",
            "6000\n"
          ],
          "name": "stdout"
        }
      ]
    },
    {
      "cell_type": "code",
      "metadata": {
        "colab": {
          "base_uri": "https://localhost:8080/"
        },
        "id": "SSdvZR_B13VK",
        "outputId": "89c63386-4c77-41ec-a244-a841e6d23c52"
      },
      "source": [
        "import time #Gonna try to keep track of how long it takes to train our model\r\n",
        "\r\n",
        "start_time = time.time()\r\n",
        "\r\n",
        "epochs = 500\r\n",
        "\r\n",
        "losses = []\r\n",
        "\r\n",
        "#This for loop trains our NN\r\n",
        "for i in range(epochs):\r\n",
        "  #Forward propagation through our ANN using training data\r\n",
        "  y_pred = model.forward(categorical_train, continuous_train)\r\n",
        "\r\n",
        "  #Calculating loss/error\r\n",
        "  loss = criterion(y_pred, y_train)\r\n",
        "  losses.append(loss)\r\n",
        "  if i%50 == 1:\r\n",
        "    print(f'epoch {i} and loss is: {loss} and time: {(time.time() - start_time)/60}')\r\n",
        "\r\n",
        "  #Backpropagation\r\n",
        "  optimizer.zero_grad() #resetting the gradient on the optimizer so it doesn't accumulate\r\n",
        "  loss.backward() #doing backpropagation off the loss function\r\n",
        "  optimizer.step() #using the optimizer for the back propagation\r\n",
        "\r\n",
        "print(f'Training took {(time.time() - start_time)/60} minutes')"
      ],
      "execution_count": null,
      "outputs": [
        {
          "output_type": "stream",
          "text": [
            "epoch 1 and loss is: 0.7249107956886292 and time: 0.01924690802892049\n",
            "epoch 51 and loss is: 0.49307575821876526 and time: 0.709987465540568\n",
            "epoch 101 and loss is: 0.43053433299064636 and time: 1.3998127261797586\n",
            "epoch 151 and loss is: 0.3932628035545349 and time: 2.1041576266288757\n",
            "epoch 201 and loss is: 0.3546769618988037 and time: 2.797495452562968\n",
            "epoch 251 and loss is: 0.3357846140861511 and time: 3.48924898703893\n",
            "epoch 301 and loss is: 0.3224593698978424 and time: 4.1829642454783125\n",
            "epoch 351 and loss is: 0.3142148554325104 and time: 4.868505966663361\n",
            "epoch 401 and loss is: 0.3092731237411499 and time: 5.556210096677145\n",
            "epoch 451 and loss is: 0.3064259886741638 and time: 6.25267273982366\n",
            "Training took 6.947432510058085 minutes\n"
          ],
          "name": "stdout"
        }
      ]
    },
    {
      "cell_type": "markdown",
      "metadata": {
        "id": "yKQBAdPJ2li4"
      },
      "source": [
        "# **Part 3: Evaluating and Testing the Model**"
      ]
    },
    {
      "cell_type": "code",
      "metadata": {
        "colab": {
          "base_uri": "https://localhost:8080/",
          "height": 297
        },
        "id": "UwVZvbsX2s63",
        "outputId": "30f8b313-cbd7-4ab8-f78f-e3734d8f18c6"
      },
      "source": [
        "#Plotting our error\r\n",
        "plt.plot(range(epochs),losses)\r\n",
        "plt.ylabel('CrossEntropy Loss')\r\n",
        "plt.xlabel('Epoch') "
      ],
      "execution_count": null,
      "outputs": [
        {
          "output_type": "execute_result",
          "data": {
            "text/plain": [
              "Text(0.5, 0, 'Epoch')"
            ]
          },
          "metadata": {
            "tags": []
          },
          "execution_count": 20
        },
        {
          "output_type": "display_data",
          "data": {
            "image/png": "[encoded data removed]",
            "text/plain": [
              "<Figure size 432x288 with 1 Axes>"
            ]
          },
          "metadata": {
            "tags": [],
            "needs_background": "light"
          }
        }
      ]
    },
    {
      "cell_type": "code",
      "metadata": {
        "colab": {
          "base_uri": "https://localhost:8080/"
        },
        "id": "OBi75pxN2uEr",
        "outputId": "e95b36be-143c-45ba-b3c5-b125e422ffde"
      },
      "source": [
        "#This just turns off the backpropagation, so we can use the model for evaluation rather than training. This helps reduce memory usage and computation speed\r\n",
        "with torch.no_grad():\r\n",
        "  y_val = model.forward(categorical_test, continuous_test)\r\n",
        "  loss = criterion(y_val, y_test) #comparing the actual results with the evaluation results\r\n",
        "\r\n",
        "print('Cross Entropy loss =',loss) #average cross entropy loss"
      ],
      "execution_count": null,
      "outputs": [
        {
          "output_type": "stream",
          "text": [
            "Cross Entropy loss = tensor(0.3108)\n"
          ],
          "name": "stdout"
        }
      ]
    },
    {
      "cell_type": "code",
      "metadata": {
        "colab": {
          "base_uri": "https://localhost:8080/"
        },
        "id": "q3sU8lAf3C3j",
        "outputId": "76818aff-3c7f-45f9-a3dd-1a25263867e2"
      },
      "source": [
        "rows = 6000\r\n",
        "correct = 0\r\n",
        "print(f'{\"MODEL OUTPUT\":26} ARGMAX  Y_TEST')\r\n",
        "for i in range(rows):\r\n",
        "    if y_val[i].argmax().item() == y_test[i]:\r\n",
        "        correct += 1\r\n",
        "print(f'\\n{correct} out of {rows} = {100*correct/rows:.2f}% correct')"
      ],
      "execution_count": null,
      "outputs": [
        {
          "output_type": "stream",
          "text": [
            "MODEL OUTPUT               ARGMAX  Y_TEST\n",
            "\n",
            "5145 out of 6000 = 85.75% correct\n"
          ],
          "name": "stdout"
        }
      ]
    },
    {
      "cell_type": "code",
      "metadata": {
        "id": "4BJxA-vw7KuY"
      },
      "source": [
        ""
      ],
      "execution_count": null,
      "outputs": []
    }
  ]
}